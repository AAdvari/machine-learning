{
 "cells": [
  {
   "cell_type": "markdown",
   "metadata": {},
   "source": [
    "# Machine Learning's \"Hello World\"!\n",
    "\n",
    "This is the assignment **#2** related to **Machine Learning** section of the **Artificial Intelligence** course at **Shahid Beheshti University**. ([Course repository link](https://github.com/SBU-CE/Artificial-Intelligence)).\n",
    "\n",
    "In this notebook, we explore the basic and traditional machine learning algorithms and see how to implement predictive models powered by [Sickit-Learn](https://scikit-learn.org/stable/) library.\n",
    "\n",
    " \n",
    " **Before you start:** Please read the ***Submission*** section at the bottom of the notebook carefully."
   ]
  },
  {
   "cell_type": "code",
   "execution_count": 1,
   "metadata": {},
   "outputs": [],
   "source": [
    "# lets import the essential packages as usual\n",
    "import pandas as pd\n",
    "import numpy as np\n",
    "%matplotlib inline\n",
    "import matplotlib\n",
    "import matplotlib.pyplot as plt\n"
   ]
  },
  {
   "cell_type": "markdown",
   "metadata": {},
   "source": [
    "# 1. Medical Insurance Cost Prediction\n",
    "\n",
    "Many factors that affect how much you pay for health insurance are not within your control. Nonetheless, it's good to have an understanding of what they are. Here are some factors that affect how much health insurance premiums cost:\n",
    "\n",
    "- **age**: age of primary beneficiary\n",
    "- **sex**: insurance contractor gender, female, male\n",
    "- **bmi**: Body mass index, providing an understanding of body, weights that are relatively high or low relative to height, objective index of body weight using the ratio of height to weight, ideally 18.5 to 24.9\n",
    "- **smoker**: Smoking\n",
    "- **children**: Number of children covered by health insurance / Number of dependents"
   ]
  },
  {
   "cell_type": "code",
   "execution_count": 102,
   "metadata": {},
   "outputs": [
    {
     "name": "stdout",
     "output_type": "stream",
     "text": [
      "Shape of the dataset: (1338, 6)\n"
     ]
    },
    {
     "data": {
      "text/html": [
       "<div>\n",
       "<style scoped>\n",
       "    .dataframe tbody tr th:only-of-type {\n",
       "        vertical-align: middle;\n",
       "    }\n",
       "\n",
       "    .dataframe tbody tr th {\n",
       "        vertical-align: top;\n",
       "    }\n",
       "\n",
       "    .dataframe thead th {\n",
       "        text-align: right;\n",
       "    }\n",
       "</style>\n",
       "<table border=\"1\" class=\"dataframe\">\n",
       "  <thead>\n",
       "    <tr style=\"text-align: right;\">\n",
       "      <th></th>\n",
       "      <th>age</th>\n",
       "      <th>sex</th>\n",
       "      <th>bmi</th>\n",
       "      <th>children</th>\n",
       "      <th>smoker</th>\n",
       "      <th>charges</th>\n",
       "    </tr>\n",
       "  </thead>\n",
       "  <tbody>\n",
       "    <tr>\n",
       "      <th>0</th>\n",
       "      <td>45</td>\n",
       "      <td>female</td>\n",
       "      <td>27.83</td>\n",
       "      <td>2</td>\n",
       "      <td>no</td>\n",
       "      <td>8515.7587</td>\n",
       "    </tr>\n",
       "    <tr>\n",
       "      <th>1</th>\n",
       "      <td>24</td>\n",
       "      <td>male</td>\n",
       "      <td>32.70</td>\n",
       "      <td>0</td>\n",
       "      <td>yes</td>\n",
       "      <td>34472.8410</td>\n",
       "    </tr>\n",
       "    <tr>\n",
       "      <th>2</th>\n",
       "      <td>34</td>\n",
       "      <td>female</td>\n",
       "      <td>29.26</td>\n",
       "      <td>3</td>\n",
       "      <td>no</td>\n",
       "      <td>6184.2994</td>\n",
       "    </tr>\n",
       "    <tr>\n",
       "      <th>3</th>\n",
       "      <td>64</td>\n",
       "      <td>male</td>\n",
       "      <td>34.50</td>\n",
       "      <td>0</td>\n",
       "      <td>no</td>\n",
       "      <td>13822.8030</td>\n",
       "    </tr>\n",
       "    <tr>\n",
       "      <th>4</th>\n",
       "      <td>27</td>\n",
       "      <td>female</td>\n",
       "      <td>24.10</td>\n",
       "      <td>0</td>\n",
       "      <td>no</td>\n",
       "      <td>2974.1260</td>\n",
       "    </tr>\n",
       "  </tbody>\n",
       "</table>\n",
       "</div>"
      ],
      "text/plain": [
       "   age     sex    bmi  children smoker     charges\n",
       "0   45  female  27.83         2     no   8515.7587\n",
       "1   24    male  32.70         0    yes  34472.8410\n",
       "2   34  female  29.26         3     no   6184.2994\n",
       "3   64    male  34.50         0     no  13822.8030\n",
       "4   27  female  24.10         0     no   2974.1260"
      ]
     },
     "execution_count": 102,
     "metadata": {},
     "output_type": "execute_result"
    }
   ],
   "source": [
    "df = pd.read_csv('datasets/insurance.csv')\n",
    "print(\"Shape of the dataset: {}\".format(df.shape))\n",
    "df.head(5)"
   ]
  },
  {
   "cell_type": "markdown",
   "metadata": {},
   "source": [
    "There is a library named `pandas_profiling` in Python include a method named as `ProfileReport()` which generate a basic report on the input DataFrame. The report consist of the following:\n",
    "\n",
    "- DataFrame overview,\n",
    "- Each attribute on which DataFrame is defined,\n",
    "- Correlations between attributes (Pearson Correlation and Spearman Correlation), and\n",
    "- A sample of DataFrame.\n",
    "\n",
    "By running the cell below, a HTML file will be created next to the notebook in the project directory."
   ]
  },
  {
   "cell_type": "code",
   "execution_count": 3,
   "metadata": {},
   "outputs": [
    {
     "data": {
      "application/vnd.jupyter.widget-view+json": {
       "model_id": "8ea9d04943cb485b8e9778606a2028b1",
       "version_major": 2,
       "version_minor": 0
      },
      "text/plain": [
       "Summarize dataset:   0%|          | 0/5 [00:00<?, ?it/s]"
      ]
     },
     "metadata": {},
     "output_type": "display_data"
    },
    {
     "data": {
      "application/vnd.jupyter.widget-view+json": {
       "model_id": "3fb8ffd41071446488236162fee6fbb1",
       "version_major": 2,
       "version_minor": 0
      },
      "text/plain": [
       "Generate report structure:   0%|          | 0/1 [00:00<?, ?it/s]"
      ]
     },
     "metadata": {},
     "output_type": "display_data"
    },
    {
     "data": {
      "application/vnd.jupyter.widget-view+json": {
       "model_id": "f40b4e7ddf014ae7bd534be97728b9a0",
       "version_major": 2,
       "version_minor": 0
      },
      "text/plain": [
       "Render HTML:   0%|          | 0/1 [00:00<?, ?it/s]"
      ]
     },
     "metadata": {},
     "output_type": "display_data"
    },
    {
     "data": {
      "application/vnd.jupyter.widget-view+json": {
       "model_id": "fd10ba091adc4f90a86419356e51cad7",
       "version_major": 2,
       "version_minor": 0
      },
      "text/plain": [
       "Export report to file:   0%|          | 0/1 [00:00<?, ?it/s]"
      ]
     },
     "metadata": {},
     "output_type": "display_data"
    }
   ],
   "source": [
    "# import pandas_profiling library\n",
    "import pandas_profiling as pp\n",
    "\n",
    "# forming ProfileReport and save\n",
    "# as a HTML file\n",
    "profile = pp.ProfileReport(df)\n",
    "profile.to_file(\"insurance_dataset_report.html\")"
   ]
  },
  {
   "cell_type": "markdown",
   "metadata": {},
   "source": [
    "## 1.1 Linear Regression\n",
    "\n",
    "**Linear Regression** is a machine learning algorithm based on **supervised learning**. It performs a regression task. Regression models a target prediction value based on independent variables. It is mostly used for finding out the relationship between variables and forecasting.\n",
    "<img src=\"images/linear-regression.png\" width=400 height=400 />"
   ]
  },
  {
   "cell_type": "markdown",
   "metadata": {},
   "source": [
    "In this problem, we want to create a linear regression model for the existing dataest. For simplicity, we only consider one of the features of the data `bmi` and the target `charges`. Also we are just interested in the people who smokes. So:"
   ]
  },
  {
   "cell_type": "code",
   "execution_count": 103,
   "metadata": {},
   "outputs": [
    {
     "data": {
      "text/plain": [
       "Text(0, 0.5, 'charges')"
      ]
     },
     "execution_count": 103,
     "metadata": {},
     "output_type": "execute_result"
    },
    {
     "data": {
      "image/png": "[encoded data removed]",
      "text/plain": [
       "<Figure size 720x432 with 1 Axes>"
      ]
     },
     "metadata": {
      "needs_background": "light"
     },
     "output_type": "display_data"
    }
   ],
   "source": [
    "X = df[df['smoker'] =='yes']['bmi'].values  # X now is a numpy array\n",
    "target = df[df['smoker'] =='yes']['charges'].values  # also target is a numpy array\n",
    "\n",
    "# plot the points\n",
    "fig, ax = plt.subplots(figsize=(10, 6))\n",
    "ax.scatter(x = X, y = target)\n",
    "plt.xlabel(\"bmi\")\n",
    "plt.ylabel(\"charges\")"
   ]
  },
  {
   "cell_type": "markdown",
   "metadata": {},
   "source": [
    "## Q1. Implement `SimpleLinearRegression` class. (20 points)\n",
    "\n",
    "Fill the blank lines with the least possible codes. Note that redundant codes may lead to reduce your score.\n",
    "\n",
    "**Note**: Do not add any other functions to the class defined below."
   ]
  },
  {
   "cell_type": "code",
   "execution_count": 104,
   "metadata": {},
   "outputs": [],
   "source": [
    "from sklearn.model_selection import train_test_split\n",
    "from sklearn.linear_model import LinearRegression\n",
    "from sklearn import metrics\n",
    "import sklearn.preprocessing as preprocessing\n",
    "\n",
    "class SimpleLinearRegression():\n",
    "    def __init__(self):\n",
    "        self.intercept = 0.0\n",
    "        self.coeff = 0.0\n",
    "    \n",
    "    def train(self, X_train, y_train):\n",
    "        # TODO: Thin function takes X_train: numpy.ndarray and y : numpy.ndarray\n",
    "        # and fit a linear line to the points with the least loss\n",
    "        # Use sklearn.linear_model.LinearRegression for this purpose\n",
    "        # At last this function must set the intercept and coefficient of the predicted line\n",
    "        \n",
    "        intercept = 0.0\n",
    "        coeff = 0.0\n",
    "        ############# Your code here ############\n",
    "        regr = LinearRegression() \n",
    "        regr.fit(X_train, y_train) \n",
    "        intercept = regr.intercept_\n",
    "        coeff = regr.coef_\n",
    "        #########################################\n",
    "        \n",
    "        self.intercept = intercept\n",
    "        self.coeff = coeff\n",
    "        \n",
    "        return coeff, intercept\n",
    "    \n",
    "    def compute_loss(self, y_pred, y_true, loss_fn = 'MSE'):\n",
    "        # TODO: Implement this function that takes y_pred and y_true\n",
    "        # as a 1-dimensional numpy array (n_samples,) and returns\n",
    "        # the loss using sklearn.metrics functions\n",
    "         \n",
    "        possible_loss_functions = ['MSE', 'MAE', 'R2_Score']\n",
    "        \n",
    "        loss = None\n",
    "        if loss_fn == 'MSE':\n",
    "            ############# Your code here ############\n",
    "            loss = metrics.mean_squared_error(y_true, y_pred) \n",
    "            #########################################\n",
    "        elif loss_fn == 'MAE':\n",
    "            ############# Your code here ############\n",
    "            loss = metrics.mean_absolute_error(y_true, y_pred) \n",
    "            #########################################\n",
    "        elif loss_fn == 'R2_Score':\n",
    "            ############# Your code here ############\n",
    "            loss = metrics.r2_score(y_true, y_pred)\n",
    "            #########################################\n",
    "        else:\n",
    "            error_str = 'Loss function is either unknown or not implemented.'\n",
    "            raise NotImplementedError(error_str)\n",
    "        \n",
    "        return loss\n",
    "        \n",
    "    def normalize(self, X, normalization='Standardization'):\n",
    "        # TODO: Implement this function that takes X : numpy.ndarray\n",
    "        # as the input feature array and normalize it\n",
    "        # You can use sklearn.preprocessing normalizations functions too.\n",
    "        # NOTE: For test set, you must use the mean and std of train set (standardization)\n",
    "        # of the train set. (since test set has not seen so far)\n",
    "        possible_normalization = ['Standardization', 'MinMaxScaling']\n",
    "        \n",
    "        nomalaized_feat = None\n",
    "        if normalization == 'Standardization':\n",
    "            ############# Your code here ############\n",
    "            standard_scaler = preprocessing.StandardScaler()\n",
    "            nomalaized_feat = standard_scaler.fit_transform(X) \n",
    "            #########################################\n",
    "        elif normalization == 'MinMaxScaling':\n",
    "            ############# Your code here ############\n",
    "            min_max_scaler = preprocessing.MinMaxScaler()\n",
    "            nomalaized_feat = min_max_scaler.fit_transform(X)\n",
    "            #########################################\n",
    "        else:\n",
    "            error_str = 'Normalization type is either unknown or not implemented.'\n",
    "            raise NotImplementedError(error_str)\n",
    "        \n",
    "        return nomalaized_feat\n",
    "    \n",
    "    def prepare_dataset(self, X, y, test_size=0.2, random_state=42):   \n",
    "        # TODO: Implement this function that takes X : numpy.ndarray and y : numpy.ndarray\n",
    "        # and use sklearn.model_selection.train_test_split to split your data into test and train sets\n",
    "        X_train, y_train, X_test, y_test = None, None, None, None\n",
    "        ############# Your code here ############\n",
    "        X_train, X_test, y_train, y_test = train_test_split(X, y, test_size=test_size, random_state=random_state)\n",
    "        #########################################\n",
    "        \n",
    "        return X_train, y_train, X_test, y_test"
   ]
  },
  {
   "cell_type": "markdown",
   "metadata": {},
   "source": [
    "## Q2. What are the coefficient and intercept of the trained linear model? (5 points)\n",
    "\n",
    "After completing the functions above, use them to report the final coefficient and intercept of the predicted model.\n",
    "\n",
    "**Note**: When implementing the `SimpleLinearRegression` class, notice that before training your model, normalize your input features for better convergence by completeing `normalize()` function. If you forget it, it may hurts your model consequently!"
   ]
  },
  {
   "cell_type": "code",
   "execution_count": 121,
   "metadata": {},
   "outputs": [
    {
     "name": "stdout",
     "output_type": "stream",
     "text": [
      "[[0.81198336]]\n",
      "[-0.00044683]\n"
     ]
    }
   ],
   "source": [
    "slr = SimpleLinearRegression()\n",
    "############# Your code here ############\n",
    "X = X.reshape(-1,1)\n",
    "target = target.reshape(-1,1)\n",
    "normalized_X = slr.normalize(X,normalization='Standardization')\n",
    "normalized_target = slr.normalize(target,normalization='Standardization')\n",
    "X_train, y_train, X_test, y_test = slr.prepare_dataset(normalized_X, normalized_target)\n",
    "coeff, intercept = slr.train(X_train, y_train)\n",
    "print(coeff)\n",
    "print(intercept)\n",
    "#########################################"
   ]
  },
  {
   "cell_type": "markdown",
   "metadata": {},
   "source": [
    "## Q3. Plot the prediceted line and the data points. (5 points)\n",
    "\n",
    "- Use `plt.scatter` to indicate the data points (Blue points for Train set and Red points for Test set).\n",
    "- Plot the predicted line using the coefficient and intercept calculated in the previous question. (`plt.plot`)"
   ]
  },
  {
   "cell_type": "code",
   "execution_count": 122,
   "metadata": {},
   "outputs": [
    {
     "data": {
      "image/png": "[encoded data removed]",
      "text/plain": [
       "<Figure size 432x288 with 1 Axes>"
      ]
     },
     "metadata": {
      "needs_background": "light"
     },
     "output_type": "display_data"
    }
   ],
   "source": [
    "############# Your code here ############\n",
    "mapper = lambda x: coeff[0]*x+intercept \n",
    "mapper_vect = np.vectorize(mapper) \n",
    "test_predict = mapper_vect(X_test)\n",
    "\n",
    "plt.scatter(X_test, y_test, color='r')\n",
    "plt.scatter(X_train, y_train, color='b')\n",
    "plt.plot(X_test, test_predict, color='k')\n",
    "plt.show()\n",
    "#########################################"
   ]
  },
  {
   "cell_type": "markdown",
   "metadata": {},
   "source": [
    "## Q4. Compute loss. (5 points)\n",
    "\n",
    "First you must search about the following loss functions and compare them. (By showing their benefits to each other).\n",
    "\n",
    "- **MSE**: Mean Squared Error\n",
    "- **MAE**: Mean Absolute Error\n",
    "- **R2-score**\n",
    "\n",
    "Then create a DataFrame similar to the table shown below:\n",
    "\n",
    "| loss_function | train_set | test_set | \n",
    "| --- | --- | --- |\n",
    "| MSE | ... | ... |\n",
    "| MAE | ... | ... |\n",
    "| R2-score | ... | ... |"
   ]
  },
  {
   "cell_type": "code",
   "execution_count": 126,
   "metadata": {},
   "outputs": [
    {
     "data": {
      "text/html": [
       "<div>\n",
       "<style scoped>\n",
       "    .dataframe tbody tr th:only-of-type {\n",
       "        vertical-align: middle;\n",
       "    }\n",
       "\n",
       "    .dataframe tbody tr th {\n",
       "        vertical-align: top;\n",
       "    }\n",
       "\n",
       "    .dataframe thead th {\n",
       "        text-align: right;\n",
       "    }\n",
       "</style>\n",
       "<table border=\"1\" class=\"dataframe\">\n",
       "  <thead>\n",
       "    <tr style=\"text-align: right;\">\n",
       "      <th></th>\n",
       "      <th>train_set</th>\n",
       "      <th>test_set</th>\n",
       "    </tr>\n",
       "    <tr>\n",
       "      <th>loss_function</th>\n",
       "      <th></th>\n",
       "      <th></th>\n",
       "    </tr>\n",
       "  </thead>\n",
       "  <tbody>\n",
       "    <tr>\n",
       "      <th>MSE</th>\n",
       "      <td>0.345000</td>\n",
       "      <td>0.368013</td>\n",
       "    </tr>\n",
       "    <tr>\n",
       "      <th>MAE</th>\n",
       "      <td>0.446759</td>\n",
       "      <td>0.466969</td>\n",
       "    </tr>\n",
       "    <tr>\n",
       "      <th>R2_score</th>\n",
       "      <td>0.655743</td>\n",
       "      <td>0.628665</td>\n",
       "    </tr>\n",
       "  </tbody>\n",
       "</table>\n",
       "</div>"
      ],
      "text/plain": [
       "               train_set  test_set\n",
       "loss_function                     \n",
       "MSE             0.345000  0.368013\n",
       "MAE             0.446759  0.466969\n",
       "R2_score        0.655743  0.628665"
      ]
     },
     "execution_count": 126,
     "metadata": {},
     "output_type": "execute_result"
    }
   ],
   "source": [
    "############# Your code here ############\n",
    "train_predict = mapper_vect(X_train)\n",
    "df = pd.DataFrame()\n",
    "df['loss_function'] = np.array(['MSE', 'MAE', 'R2_score'])\n",
    "df['train_set'] = np.array( [\n",
    "    slr.compute_loss(train_predict, y_train, loss_fn='MSE'),\n",
    "    slr.compute_loss(train_predict, y_train, loss_fn='MAE'),\n",
    "    slr.compute_loss(train_predict, y_train, loss_fn='R2_Score')\n",
    "])\n",
    "df['test_set'] = np.array( [\n",
    "    slr.compute_loss(test_predict, y_test, loss_fn='MSE'),\n",
    "    slr.compute_loss(test_predict, y_test, loss_fn='MAE'),\n",
    "    slr.compute_loss(test_predict, y_test, loss_fn='R2_Score')\n",
    "])\n",
    "df = df.set_index(\"loss_function\")\n",
    "df\n",
    "#########################################"
   ]
  },
  {
   "cell_type": "markdown",
   "metadata": {},
   "source": [
    "## 1.2 Underfitting & Overfitting Issues\n",
    "\n",
    "A model is said to be a good machine learning model if it generalizes any new input data from the problem domain in a proper way. This helps us to make predictions in the future data, that the data model has never seen. Now, suppose we want to check how well our machine learning model learns and generalizes to the new data (Test set). For that, we have overfitting and underfitting, which are majorly responsible for the poor performances of the machine learning algorithms.\n",
    "\n",
    "- **Underfitting:** A statistical model or a machine learning algorithm is said to have underfitting when it cannot capture the underlying trend of the data. (It’s just like trying to fit undersized pants!) Underfitting destroys the accuracy of our machine learning model. Its occurrence simply means that our model or the algorithm **does not fit the data well enough**. It usually happens when we have fewer data to build an accurate model and also when we try to build a linear model with fewer non-linear data. In such cases, the rules of the machine learning model are too easy and flexible to be applied on such minimal data and therefore the model will probably make a lot of wrong predictions. Underfitting can be avoided by using more data and also reducing the features by feature selection. \n",
    "\n",
    "    Techniques to reduce underfitting: \n",
    "\n",
    "    1. Increase model complexity\n",
    "    2. Increase the number of features, performing feature engineering\n",
    "    3. Remove noise from the data.\n",
    "    4. Increase the number of epochs or increase the duration of training to get better results.\n",
    "    \n",
    "    \n",
    "- **Overfitting:** A statistical model is said to be overfitted when we train it with a lot of data (just like fitting ourselves in oversized pants!). When a model gets trained with so much data, it starts learning from the noise and inaccurate data entries in our data set. Then the model does not categorize the data correctly, because of too many details and noise. The causes of overfitting are the non-parametric and non-linear methods because these types of machine learning algorithms have more freedom in building the model based on the dataset and therefore they can really build unrealistic models. \n",
    "\n",
    "    Techniques to reduce overfitting: \n",
    "\n",
    "    1. Increase training data.\n",
    "    2. Reduce model complexity.\n",
    "    3. Early stopping during the training phase (have an eye over the loss over the training period as soon as loss begins to increase stop training).\n",
    "    4. Ridge Regularization and Lasso Regularization\n",
    "    \n",
    "    In the image below you can see linear regression and polynomial regression models. In the linear model, the model has underfitted and thus it cannot be generalized on all the data point properly (Underfitting). So we can add polynomial features as well to increase the complexity of the model. Therefore, in the middle figure you can see better fittnes of the model on the data points by adding $\\{x^2, x^3, x^4\\}$ to our hypothesis space.\n",
    "Although in the right side figure you see less loss than others, but the model is overfitted. It cannot be generalized on the test set (unseen data). \n",
    "    \n",
    "<img src=\"images/underfitting_overfitting.png\" width=700 height=700 />\n",
    "\n",
    "\n",
    "**Note:** The image above is not related to the given `insurance.csv` dataset."
   ]
  },
  {
   "cell_type": "markdown",
   "metadata": {},
   "source": [
    "## Q5. Implement `PolynomialRegression` class. (15 points)\n",
    "\n",
    "Fill the blank lines with using the least possible codes. Note that redundant codes may lead to reduce your score.\n",
    "\n",
    "**Note**: Do not add any other functions to the class defined below."
   ]
  },
  {
   "cell_type": "code",
   "execution_count": 127,
   "metadata": {},
   "outputs": [],
   "source": [
    "from sklearn.model_selection import train_test_split\n",
    "from sklearn.linear_model import LinearRegression\n",
    "from sklearn.preprocessing import PolynomialFeatures\n",
    "from sklearn import metrics\n",
    "\n",
    "\n",
    "class PolynomialRegression():\n",
    "    def __init__(self, degree=3):\n",
    "        self.degree = degree\n",
    "    \n",
    "    def train(self, X_train, y_train):\n",
    "        # TODO: Thin function takes X_train: numpy.ndarray and y : numpy.ndarray\n",
    "        # and fit a linear line to the points with the least loss\n",
    "        # Use sklearn.linear_model.LinearRegression for this purpose\n",
    "        # At last this function must set the intercept and coefficient of the predicted line\n",
    "        \n",
    "        intercept = None\n",
    "        coeff = None\n",
    "        ############# Your code here ############\n",
    "        regr = LinearRegression() \n",
    "        regr.fit(X_train, y_train) \n",
    "        intercept = regr.intercept_\n",
    "        coeff = regr.coef_\n",
    "        #########################################\n",
    "        \n",
    "        return regr, coeff, intercept\n",
    "    \n",
    "    def compute_loss(self, y_pred, y_true, loss_fn = 'MSE'):\n",
    "        # TODO: Implement this function that takes y_pred and y_true\n",
    "        # as a 1-dimensional numpy array (n_samples,) and returns\n",
    "        # the loss using sklearn.metrics functions\n",
    "                 \n",
    "        possible_loss_functions = ['MSE', 'MAE', 'R2_Score']\n",
    "        \n",
    "        loss = None\n",
    "        if loss_fn == 'MSE':\n",
    "            ############# Your code here ############\n",
    "            loss = metrics.mean_squared_error(y_true, y_pred) \n",
    "            #########################################\n",
    "        elif loss_fn == 'MAE':\n",
    "            ############# Your code here ############\n",
    "            loss = metrics.mean_absolute_error(y_true, y_pred) \n",
    "            #########################################\n",
    "        elif loss_fn == 'R2_Score':\n",
    "            ############# Your code here ############\n",
    "            loss = metrics.r2_score(y_true, y_pred)\n",
    "            #########################################\n",
    "        else:\n",
    "            error_str = 'Loss function is either unknown or not implemented.'\n",
    "            raise NotImplementedError(error_str)\n",
    "        \n",
    "        return loss\n",
    "        \n",
    "    def normalize(self, X, normalization='Standardization'):\n",
    "        # TODO: Implement this function that takes X : numpy.ndarray\n",
    "        # as the input feature array and normalize it\n",
    "        # You can use sklearn.preprocessing normalizations functions too.\n",
    "        # NOTE: For test set, you must use the mean and std of train set (standardization)\n",
    "        # of the train set. (since test set has not seen so far)\n",
    "        possible_normalization = ['Standardization', 'MinMaxScaling']\n",
    "        \n",
    "        nomalaized_feat = None\n",
    "        if normalization == 'Standardization':\n",
    "            ############# Your code here ############\n",
    "            standard_scaler = preprocessing.StandardScaler()\n",
    "            nomalaized_feat = standard_scaler.fit_transform(X) \n",
    "            #########################################\n",
    "        elif normalization == 'MinMaxScaling':\n",
    "            ############# Your code here ############\n",
    "            min_max_scaler = preprocessing.MinMaxScaler()\n",
    "            nomalaized_feat = min_max_scaler.fit_transform(X)\n",
    "            #########################################\n",
    "        else:\n",
    "            error_str = 'Normalization type is either unknown or not implemented.'\n",
    "            raise NotImplementedError(error_str)\n",
    "        \n",
    "        return nomalaized_feat\n",
    "    \n",
    "    def generate_polynomial_features(self, X, degree):\n",
    "        # TODO: Implement this function that takes degree: int and X: numpy.ndarray\n",
    "        # to return polnomial features of those input features.\n",
    "        # Use sklearn.preprocessing.PolynomialFeatures. Read its documentation for more info.\n",
    "        X_pol = None\n",
    "        ############# Your code here ############\n",
    "        poly = PolynomialFeatures(degree=degree) \n",
    "        X_pol = poly.fit_transform(X) \n",
    "        #########################################\n",
    "        \n",
    "        return X_pol\n",
    "        \n",
    "\n",
    "    def prepare_dataset(self, X, y, test_size=0.2, random_state=42):   \n",
    "        # TODO: Implement this function that takes X : numpy.ndarray and y : numpy.ndarray\n",
    "        # and use sklearn.model_selection.train_test_split to split your data into test and train sets\n",
    "        X_train, y_train, X_test, y_test = None, None, None, None\n",
    "        ############# Your code here ############\n",
    "        X_train, X_test, y_train, y_test = train_test_split(X, y, test_size=test_size, random_state=random_state)\n",
    "        #########################################\n",
    "        \n",
    "        return X_train, y_train, X_test, y_test"
   ]
  },
  {
   "cell_type": "markdown",
   "metadata": {},
   "source": [
    "## Q6. Find the best polynomial degree. (10 points)\n",
    "\n",
    "The best polynomial degree is the one with the least loss for test set data points. So use the implemented `PolynomialRegression`above multiple times to find the best one. "
   ]
  },
  {
   "cell_type": "code",
   "execution_count": 128,
   "metadata": {},
   "outputs": [
    {
     "name": "stdout",
     "output_type": "stream",
     "text": [
      "2\n",
      "44127726.86972295\n"
     ]
    }
   ],
   "source": [
    "best_degree = 1\n",
    "least_loss = float('inf')\n",
    "test_losses = []\n",
    "train_losses = []\n",
    "X_train, y_train, X_test, y_test = slr.prepare_dataset(X, target)\n",
    "for degree in range(1,21):\n",
    "    pr = PolynomialRegression(degree=degree)\n",
    "    ############# Your code here ############\n",
    "    \n",
    "    ## Train by training set\n",
    "    train_poly = pr.generate_polynomial_features(X_train, degree)\n",
    "    train_poly = pr.normalize(train_poly,normalization='Standardization')\n",
    "    \n",
    "    reg, coeff, intercept= pr.train(train_poly, y_train)\n",
    "    \n",
    "    ## Generate predictions on testing set\n",
    "    test_poly = pr.generate_polynomial_features(X_test, degree)\n",
    "    test_poly = pr.normalize(test_poly, normalization='Standardization')\n",
    "    \n",
    "    test_pred = reg.predict(test_poly)\n",
    "    train_pred = reg.predict(train_poly)\n",
    "    \n",
    "    # Compute loss from actual values (testing set) And append them to their lists \n",
    "    current_test_loss = pr.compute_loss(test_pred, y_test)\n",
    "    current_train_loss = pr.compute_loss(train_pred, y_train)\n",
    "    \n",
    "    test_losses.append(current_test_loss)\n",
    "    train_losses.append(current_train_loss) \n",
    "    \n",
    "    if current_test_loss < least_loss: \n",
    "        least_loss = current_test_loss\n",
    "        best_degree = degree\n",
    "        \n",
    "    #########################################\n",
    "print(best_degree)\n",
    "print(least_loss)"
   ]
  },
  {
   "cell_type": "markdown",
   "metadata": {},
   "source": [
    "## Q7. Plot some experimental results (5 points)\n",
    "\n",
    "Use `plt.subplot` to plot the predicted polynomial model **for degrees, 1, 4 and 20**.\n",
    "\n",
    "So note that you must present 1 figure with 3 plots.\n",
    "\n",
    "Also consider these:\n",
    "- Set the title of each plot to ***Polynomial Fit degree i***\n",
    "- Print loss of each model on both train and test set."
   ]
  },
  {
   "cell_type": "code",
   "execution_count": 120,
   "metadata": {
    "scrolled": false
   },
   "outputs": [
    {
     "name": "stdout",
     "output_type": "stream",
     "text": [
      "degree 1 ->  test_loss:48859853.552092865 train_loss:45788820.50976393\n",
      "degree 4 ->  test_loss:37374998.90133429 train_loss:37374998.90133429\n",
      "degree 20->  test_loss:28126490.026436403 train_loss:28126490.026436403\n"
     ]
    },
    {
     "data": {
      "image/png": "[encoded data removed]",
      "text/plain": [
       "<Figure size 828x1116 with 3 Axes>"
      ]
     },
     "metadata": {
      "needs_background": "light"
     },
     "output_type": "display_data"
    }
   ],
   "source": [
    "############# Your code here ############\n",
    "fig, axs = plt.subplots(3) \n",
    "fig.tight_layout(pad=1)\n",
    "\n",
    "def generate_predicts(coeffs, degree, intercept, inp):\n",
    "    pred = []\n",
    "    for i in inp:\n",
    "        temp = 0\n",
    "        for j in range(degree):\n",
    "            temp += i[j+1] * coeffs[0,j+1]\n",
    "        pred.append(temp+intercept)\n",
    "    return np.array(pred)\n",
    "\n",
    "\n",
    "j = 0\n",
    "for i in [1,4,20]:\n",
    "    pr = PolynomialRegression(degree=i)\n",
    "    train_poly = pr.generate_polynomial_features(X_train,i)\n",
    "    train_poly = pr.normalize(train_poly,normalization='Standardization')\n",
    "    \n",
    "    reg, coeff, intercept = pr.train(train_poly, y_train)\n",
    "    test_poly = pr.generate_polynomial_features(X_test, i)\n",
    "    test_pred = generate_predicts(coeff, i, intercept, test_poly)\n",
    "    \n",
    "    axs[j].plot(X_test, test_pred)\n",
    "    axs[j].scatter(X_test, y_test, color='r')\n",
    "    axs[j].set_title('Fit degree '+ str(i))\n",
    "    j = j+1\n",
    "\n",
    "fig.set_size_inches(11.5,15.5, forward=True)\n",
    "\n",
    "print(\"degree 1 ->  test_loss:\"+ str(test_losses[0]) + \" train_loss:\" + str(train_losses[0])) \n",
    "print(\"degree 4 ->  test_loss:\"+ str(train_losses[3]) + \" train_loss:\" + str(train_losses[3])) \n",
    "print(\"degree 20->  test_loss:\"+ str(train_losses[19]) + \" train_loss:\" + str(train_losses[19])) \n",
    "\n",
    "#########################################"
   ]
  },
  {
   "cell_type": "markdown",
   "metadata": {},
   "source": [
    "# 2. Mall Customer Clustering\n",
    "\n",
    "How to customize our services for an existing mall customers? One way to do this is to cluster customers based on some information(features) we have from them. Customers with similar features must be corresponded to the samed clusters(groups).\n",
    "\n",
    "There is a dataset `datasets/mall_customers.csv` which can be found in the project directory. It has the following features per example:\n",
    "\n",
    "- **sex**: customer gender, female, male\n",
    "- **age**: customer age\n",
    "- **annual_income**: estimated annual income of each customer (k\\$)\n",
    "- **spending_score**: An interger value between 0 and 100 which indicates the score of the customer for his/her ability for purchasing products.\n",
    "\n",
    "In this problem we are going to cluster the customers based on their `annual_income` and `spending_score` features."
   ]
  },
  {
   "cell_type": "code",
   "execution_count": 28,
   "metadata": {},
   "outputs": [
    {
     "name": "stdout",
     "output_type": "stream",
     "text": [
      "Shape of the dataset: (200, 4)\n"
     ]
    },
    {
     "data": {
      "text/html": [
       "<div>\n",
       "<style scoped>\n",
       "    .dataframe tbody tr th:only-of-type {\n",
       "        vertical-align: middle;\n",
       "    }\n",
       "\n",
       "    .dataframe tbody tr th {\n",
       "        vertical-align: top;\n",
       "    }\n",
       "\n",
       "    .dataframe thead th {\n",
       "        text-align: right;\n",
       "    }\n",
       "</style>\n",
       "<table border=\"1\" class=\"dataframe\">\n",
       "  <thead>\n",
       "    <tr style=\"text-align: right;\">\n",
       "      <th></th>\n",
       "      <th>sex</th>\n",
       "      <th>age</th>\n",
       "      <th>annual_income</th>\n",
       "      <th>spending_score</th>\n",
       "    </tr>\n",
       "  </thead>\n",
       "  <tbody>\n",
       "    <tr>\n",
       "      <th>0</th>\n",
       "      <td>Male</td>\n",
       "      <td>19</td>\n",
       "      <td>15</td>\n",
       "      <td>39</td>\n",
       "    </tr>\n",
       "    <tr>\n",
       "      <th>1</th>\n",
       "      <td>Male</td>\n",
       "      <td>21</td>\n",
       "      <td>15</td>\n",
       "      <td>81</td>\n",
       "    </tr>\n",
       "    <tr>\n",
       "      <th>2</th>\n",
       "      <td>Female</td>\n",
       "      <td>20</td>\n",
       "      <td>16</td>\n",
       "      <td>6</td>\n",
       "    </tr>\n",
       "    <tr>\n",
       "      <th>3</th>\n",
       "      <td>Female</td>\n",
       "      <td>23</td>\n",
       "      <td>16</td>\n",
       "      <td>77</td>\n",
       "    </tr>\n",
       "    <tr>\n",
       "      <th>4</th>\n",
       "      <td>Female</td>\n",
       "      <td>31</td>\n",
       "      <td>17</td>\n",
       "      <td>40</td>\n",
       "    </tr>\n",
       "  </tbody>\n",
       "</table>\n",
       "</div>"
      ],
      "text/plain": [
       "      sex  age  annual_income  spending_score\n",
       "0    Male   19             15              39\n",
       "1    Male   21             15              81\n",
       "2  Female   20             16               6\n",
       "3  Female   23             16              77\n",
       "4  Female   31             17              40"
      ]
     },
     "execution_count": 28,
     "metadata": {},
     "output_type": "execute_result"
    }
   ],
   "source": [
    "df = pd.read_csv('datasets/mall_customers.csv')\n",
    "print(\"Shape of the dataset: {}\".format(df.shape))\n",
    "df.head(5)"
   ]
  },
  {
   "cell_type": "code",
   "execution_count": 31,
   "metadata": {},
   "outputs": [
    {
     "data": {
      "text/plain": [
       "Text(0, 0.5, 'spending_score')"
      ]
     },
     "execution_count": 31,
     "metadata": {},
     "output_type": "execute_result"
    },
    {
     "data": {
      "image/png": "[encoded data removed]",
      "text/plain": [
       "<Figure size 720x432 with 1 Axes>"
      ]
     },
     "metadata": {
      "needs_background": "light"
     },
     "output_type": "display_data"
    }
   ],
   "source": [
    "X = df[['annual_income', 'spending_score']]\n",
    "\n",
    "# plot the points\n",
    "fig, ax = plt.subplots(figsize=(10, 6))\n",
    "ax.scatter(X['annual_income'], X['spending_score'])\n",
    "plt.xlabel(\"annual_income\")\n",
    "plt.ylabel(\"spending_score\")"
   ]
  },
  {
   "cell_type": "markdown",
   "metadata": {},
   "source": [
    "## 2.1 K-means clustering algorithm\n",
    "\n",
    "We are given a data set of items, with certain features, and values for these features (like a vector). The task is to categorize those items into groups. To achieve this, we will use the kMeans algorithm; an **unsupervised** learning algorithm. \n",
    "\n",
    "The algorithm will categorize the items into k groups of similarity. To calculate that similarity, we will use the euclidean distance as measurement.\n",
    "\n",
    "The algorithm works as follows:\n",
    "\n",
    "1. First, we initialize $k$ points, called means(centroids), randomly.\n",
    "2. We categorize each item to its closest mean and we update the mean’s coordinates, which are the averages of the items categorized in that mean so far.\n",
    "3. We repeat the process for a given number of iterations and at the end, we have our clusters.\n",
    "\n",
    "The *points* mentioned above are called means because they hold the mean values of the items categorized in them. To initialize these means, we have a lot of options. An intuitive method is to initialize the means at random items in the data set.\n",
    "\n",
    "The above algorithm in pseudocode: \n",
    "\n",
    "```\n",
    "Initialize k means with random values\n",
    "\n",
    "For a given number of iterations:\n",
    "    Iterate through items:\n",
    "        Find the mean closest to the item\n",
    "        Assign item to mean\n",
    "        Update mean\n",
    "```\n",
    "\n",
    "Hopefully in this assignment we will not implement this algorithm from scratch. Sickit-learn library has provided it for us and we will use it readily.\n",
    "\n",
    "<img src=\"images/kmeans.png\" width=700 height=700 />"
   ]
  },
  {
   "cell_type": "markdown",
   "metadata": {},
   "source": [
    "## Q8. Train a Kmeans model (15 points)\n",
    "\n",
    "You must use `sklearn.cluster.KMeans` functionalities to implement a kmeans. Follow the steps below:\n",
    "\n",
    "1. Initiallize the kmeans model with $k=5$\n",
    "2. Fit the model on the training set.\n",
    "3. Assign the learnt clusters to testing set points\n",
    "4. Compute WCSS criteria for the trained model(kmeans.inertia_)\n",
    "\n",
    "\n",
    "Note: You may need to read the documentation of the scikit learn library for kmeans entirely."
   ]
  },
  {
   "cell_type": "code",
   "execution_count": 32,
   "metadata": {},
   "outputs": [],
   "source": [
    "from sklearn.cluster import KMeans\n",
    "\n",
    "# split data to train and test sets\n",
    "X_train, X_test = train_test_split(X, test_size=0.1, random_state=42)\n",
    "\n",
    "############# Your code here ############\n",
    "    \n",
    "#########################################"
   ]
  },
  {
   "cell_type": "markdown",
   "metadata": {},
   "source": [
    "## Q9. Plot the clusters and their centroids. (15 points)\n",
    "\n",
    "Plot the data points and their clusters centroids with different colors (You must use 5 colors, one per cluster).\n",
    "\n",
    "Use as much as matplotlib functionalities for more interesting plots.\n",
    "\n",
    "**Note that the more understandable and exciting your figures are, the more score you will get!**"
   ]
  },
  {
   "cell_type": "code",
   "execution_count": null,
   "metadata": {},
   "outputs": [],
   "source": [
    "############# Your code here ############\n",
    "    \n",
    "#########################################"
   ]
  },
  {
   "cell_type": "markdown",
   "metadata": {},
   "source": [
    "## Q10. Elbow diagram (10 points)\n",
    "\n",
    "**Which value for $k$?!** \n",
    "\n",
    "Search about Elbow diagram for kmeans. Write about it here briefly and plot the Elbow diagram to achieve the best paramater $k$ for our kmeans algorithm."
   ]
  },
  {
   "cell_type": "code",
   "execution_count": 35,
   "metadata": {},
   "outputs": [],
   "source": [
    "for k in range(10):\n",
    "    best_k = 1\n",
    "    loss = []\n",
    "    \n",
    "    ############# Your code here ############\n",
    "    \n",
    "    #########################################"
   ]
  },
  {
   "cell_type": "markdown",
   "metadata": {},
   "source": [
    "# 3. Submission\n",
    "\n",
    "Please read the notes here carefully:\n",
    "\n",
    "1. The more beautiful and insightfull your plots and diagrams are, the more points you get. So please take your time and concentration to prepare a good report with nice diagrams.\n",
    "\n",
    "2. Copy and paste all the codes you have implemented in a `Utils.py` file. Note that you won't need to add any other functions and you just have to copy and paste the functions which have ***\\\"Your code here\\\"*** comments in its body.\n",
    "\n",
    "3. The file you upload must be named as `[Student ID]-[Your name].zip` and it must contain **only 2 files**:\n",
    "\n",
    "  - `BasicMachineLearningAlgorithms.ipynb`\n",
    "  - `Utils.py`\n",
    "  \n",
    "4. **Important Note**: The outputs of the code blocks must be remained in your notebook, otherwise, you definitly lose all the points of that \n",
    "  \n",
    "In case you have any questions, contact **mohammad99hashemi@gmail.com**"
   ]
  },
  {
   "cell_type": "code",
   "execution_count": null,
   "metadata": {},
   "outputs": [],
   "source": []
  }
 ],
 "metadata": {
  "kernelspec": {
   "display_name": "Python 3",
   "language": "python",
   "name": "python3"
  },
  "language_info": {
   "codemirror_mode": {
    "name": "ipython",
    "version": 3
   },
   "file_extension": ".py",
   "mimetype": "text/x-python",
   "name": "python",
   "nbconvert_exporter": "python",
   "pygments_lexer": "ipython3",
   "version": "3.8.3"
  }
 },
 "nbformat": 4,
 "nbformat_minor": 5
}
